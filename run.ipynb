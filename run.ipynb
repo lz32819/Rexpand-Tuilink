{
 "cells": [
  {
   "cell_type": "code",
   "execution_count": 28,
   "metadata": {},
   "outputs": [],
   "source": [
    "%reload_ext autoreload\n",
    "%autoreload 2\n",
    "\n",
    "import logging\n",
    "logging.basicConfig(level=logging.INFO)\n",
    "from rexpand_pyutils_file import write_file\n",
    "\n",
    "from utils.conversation_data import load_conversation_data\n",
    "from utils.json import to_json_compatible\n",
    "from models.context import Context\n",
    "from nodes.orchestrator import orchestrate\n",
    "from models.workflow import State\n"
   ]
  },
  {
   "cell_type": "code",
   "execution_count": 29,
   "metadata": {},
   "outputs": [
    {
     "name": "stderr",
     "output_type": "stream",
     "text": [
      "INFO:root:Read sheet 'Result 1' from Excel file ./input/convo_2454_rows.xlsx\n",
      "INFO:root:Read EXCEL data from ./input/convo_2454_rows.xlsx with 2454 rows\n"
     ]
    }
   ],
   "source": [
    "# Load all conversations\n",
    "conversations = load_conversation_data('./input/convo_2454_rows.xlsx')\n"
   ]
  },
  {
   "cell_type": "code",
   "execution_count": 30,
   "metadata": {},
   "outputs": [
    {
     "name": "stderr",
     "output_type": "stream",
     "text": [
      "INFO:root:Wrote JSON data to ./output/current_messages.json\n"
     ]
    }
   ],
   "source": [
    "# Select a conversation to process\n",
    "index = 10\n",
    "messages_end = 5\n",
    "messages = conversations[index][:messages_end]\n",
    "context = Context(messages=messages)\n",
    "write_file('./output/current_messages.json', to_json_compatible(messages))\n"
   ]
  },
  {
   "cell_type": "code",
   "execution_count": 31,
   "metadata": {},
   "outputs": [
    {
     "name": "stderr",
     "output_type": "stream",
     "text": [
      "INFO:root:Read JSON data from ./.cache/cd5ff8cde4d0c7afbc74632cd7f18ad7.json\n",
      "INFO:root:Read JSON data from ./.cache/12e9d798c1dba94b26554248e3ea5fdd.json\n"
     ]
    },
    {
     "name": "stdout",
     "output_type": "stream",
     "text": [
      "next: select topics\n",
      "ClassifierResult(category='no_reply', confidence=1.0, reason='The last message is from the job seeker asking to connect and discuss a role, but there is no reply from the referrer yet.', referenced_message_ids=['b99a542c-ccde-46a4-ace4-c570b14956ad'])\n",
      "TopicSuggesterResult(topics=[Topic(topic='Thank you', confidence=0.9, reason='The job seeker has initiated contact politely, so acknowledging and thanking the referrer for their time is appropriate.'), Topic(topic='Express interest', confidence=1.0, reason='The job seeker has expressed clear interest in the Senior Associate role at VaynerMedia, which is the main reason for reaching out.'), Topic(topic='Ask for a brief call', confidence=0.95, reason='The job seeker requested to connect and discuss the role, indicating a desire for a conversation or call.')])\n",
      "None\n",
      "None\n"
     ]
    }
   ],
   "source": [
    "# Fresh start. In this case, no human in the loop with topics suggested\n",
    "state = State(context=context)\n",
    "state = orchestrate(state)\n",
    "\n",
    "print(state.step)\n",
    "print(state.classified_category)\n",
    "print(state.suggested_topics)\n",
    "print(state.selected_topics)\n",
    "print(state.generated_reply_message)\n"
   ]
  },
  {
   "cell_type": "code",
   "execution_count": 32,
   "metadata": {},
   "outputs": [
    {
     "name": "stderr",
     "output_type": "stream",
     "text": [
      "INFO:root:Read JSON data from ./.cache/15b82265cede13904accf1951fa5732d.json\n"
     ]
    },
    {
     "name": "stdout",
     "output_type": "stream",
     "text": [
      "end: reply generated\n",
      "ClassifierResult(category='no_reply', confidence=1.0, reason='The last message is from the job seeker asking to connect and discuss a role, but there is no reply from the referrer yet.', referenced_message_ids=['b99a542c-ccde-46a4-ace4-c570b14956ad'])\n",
      "TopicSuggesterResult(topics=[Topic(topic='Thank you', confidence=0.9, reason='The job seeker has initiated contact politely, so acknowledging and thanking the referrer for their time is appropriate.'), Topic(topic='Express interest', confidence=1.0, reason='The job seeker has expressed clear interest in the Senior Associate role at VaynerMedia, which is the main reason for reaching out.'), Topic(topic='Ask for a brief call', confidence=0.95, reason='The job seeker requested to connect and discuss the role, indicating a desire for a conversation or call.')])\n",
      "TopicSuggesterResult(topics=[Topic(topic='Thank you', confidence=0.9, reason='The job seeker has initiated contact politely, so acknowledging and thanking the referrer for their time is appropriate.'), Topic(topic='Express interest', confidence=1.0, reason='The job seeker has expressed clear interest in the Senior Associate role at VaynerMedia, which is the main reason for reaching out.'), Topic(topic='Ask for a brief call', confidence=0.95, reason='The job seeker requested to connect and discuss the role, indicating a desire for a conversation or call.')])\n",
      "MessageGeneratorResult(message=\"Hi Michael,\\n\\nI just wanted to thank you for considering my message. I'm very interested in the Senior Associate role at VaynerMedia and would appreciate the opportunity to have a brief call to discuss how I might contribute to your team.\\n\\nPlease let me know if there's a convenient time for you.\\n\\nKind regards,\\nAlice\", confidence=0.95, reason='The job seeker has already expressed interest and requested to connect. A polite follow-up message thanking the referrer and reiterating interest while asking for a brief call aligns well with the selected topics and the current conversation state where no reply has been received yet.')\n"
     ]
    }
   ],
   "source": [
    "# Continue with selecting all suggested topics to generate a reply\n",
    "state.selected_topics = state.suggested_topics\n",
    "state = orchestrate(state)\n",
    "\n",
    "print(state.step)\n",
    "print(state.classified_category)\n",
    "print(state.suggested_topics)\n",
    "print(state.selected_topics)\n",
    "print(state.generated_reply_message)\n"
   ]
  },
  {
   "cell_type": "code",
   "execution_count": null,
   "metadata": {},
   "outputs": [],
   "source": []
  }
 ],
 "metadata": {
  "kernelspec": {
   "display_name": ".venv",
   "language": "python",
   "name": "python3"
  },
  "language_info": {
   "codemirror_mode": {
    "name": "ipython",
    "version": 3
   },
   "file_extension": ".py",
   "mimetype": "text/x-python",
   "name": "python",
   "nbconvert_exporter": "python",
   "pygments_lexer": "ipython3",
   "version": "3.11.7"
  }
 },
 "nbformat": 4,
 "nbformat_minor": 2
}
